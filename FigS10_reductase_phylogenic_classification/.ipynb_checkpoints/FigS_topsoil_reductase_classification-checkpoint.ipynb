{
 "cells": [
  {
   "cell_type": "code",
   "execution_count": 1,
   "metadata": {},
   "outputs": [],
   "source": [
    "import numpy as np\n",
    "import matplotlib.pyplot as plt\n",
    "import pandas as pd\n",
    "import pickle as pickle\n",
    "import matplotlib.patches as mpatches\n",
    "from ete3 import NCBITaxa\n",
    "\n",
    "ncbi = NCBITaxa()\n",
    "plt.rcParams['svg.fonttype'] = 'none'\n",
    "plt.rcParams['axes.linewidth'] = 1\n",
    "plt.rcParams['font.family'] = 'Arial'"
   ]
  },
  {
   "cell_type": "markdown",
   "metadata": {},
   "source": [
    "Read data"
   ]
  },
  {
   "cell_type": "code",
   "execution_count": 2,
   "metadata": {},
   "outputs": [],
   "source": [
    "#output of Kaiju server for taxonomic identification of reads\n",
    "kaiju = pd.read_csv('kaiju_out/denitKOs_meta_all_MEM',sep='\\t',header=0,names=['classified_unclassified','read_name','taxid','score','taxid2','seqid','seq'])\n",
    "\n",
    "#Table relating denitrification KOs to gene names\n",
    "denit_KOs = pd.read_csv('denit_kos.tsv',sep='\\t',header=None,names=['KO','gene'])\n",
    "\n",
    "#Reads from topsoil microbiome dataset that map to ORFs annotated as denitrification genes\n",
    "with open('topsoil_denit_reads.pk', 'rb') as f:\n",
    "    reads = pickle.load(f)\n",
    "    \n",
    "#ORFs assembled for topsoil microbiome dataset that are annotated as denitrification genes\n",
    "with open('topsoil_denit_orfs.pk', 'rb') as f:\n",
    "    orfs = pickle.load(f)"
   ]
  },
  {
   "cell_type": "markdown",
   "metadata": {},
   "source": [
    "Match each read with a pH value, denit gene label, and taxonomic id"
   ]
  },
  {
   "cell_type": "code",
   "execution_count": 3,
   "metadata": {
    "scrolled": true
   },
   "outputs": [
    {
     "name": "stderr",
     "output_type": "stream",
     "text": [
      "/Users/kvg/mambaforge/lib/python3.10/site-packages/ete3/ncbi_taxonomy/ncbiquery.py:243: UserWarning: taxid 2507565 was translated into 1898104\n",
      "  warnings.warn(\"taxid %s was translated into %s\" %(taxid, merged_conversion[taxid]))\n",
      "/Users/kvg/mambaforge/lib/python3.10/site-packages/ete3/ncbi_taxonomy/ncbiquery.py:243: UserWarning: taxid 1779474 was translated into 2728101\n",
      "  warnings.warn(\"taxid %s was translated into %s\" %(taxid, merged_conversion[taxid]))\n",
      "/Users/kvg/mambaforge/lib/python3.10/site-packages/ete3/ncbi_taxonomy/ncbiquery.py:243: UserWarning: taxid 332056 was translated into 332055\n",
      "  warnings.warn(\"taxid %s was translated into %s\" %(taxid, merged_conversion[taxid]))\n",
      "/Users/kvg/mambaforge/lib/python3.10/site-packages/ete3/ncbi_taxonomy/ncbiquery.py:243: UserWarning: taxid 654845 was translated into 1969733\n",
      "  warnings.warn(\"taxid %s was translated into %s\" %(taxid, merged_conversion[taxid]))\n"
     ]
    }
   ],
   "source": [
    "gene = []\n",
    "all_tax = []        \n",
    "get_ranks = ['superkingdom','phylum','class','order','family','genus']\n",
    "\n",
    "for i in range(0,len(kaiju)):\n",
    "    read_name = kaiju['read_name'][i]\n",
    "    \n",
    "    #match each read with a denit gene name\n",
    "    orf_id = reads['orf_id'][reads['read_id'] == read_name].values[0]\n",
    "    KO = orfs['KO'][orfs['orf_id']==orf_id].values[0].split(\",\")\n",
    "    for j in range(0,len(KO)):\n",
    "        KO[j] = KO[j][KO[j].find(\":\")+1:]\n",
    "        gene_name = denit_KOs['gene'][denit_KOs['KO'] == KO[j]]\n",
    "        if gene_name.size > 0:\n",
    "            gene.append(gene_name.values[0])\n",
    "    \n",
    "    #look up taxonomic information for each classified read\n",
    "    if kaiju['classified_unclassified'][i] == 'C':\n",
    "        lin = ncbi.get_lineage(kaiju['taxid'][i])\n",
    "        ranks = ncbi.get_rank(lin);\n",
    "        inv_ranks = {}\n",
    "        for k, v in ranks.items():\n",
    "            inv_ranks[v] = inv_ranks.get(v, []) + [k]\n",
    "            \n",
    "        tax_str = []\n",
    "        for j in range(0,len(get_ranks)):\n",
    "            try:\n",
    "                rank_idx = lin.index(inv_ranks[get_ranks[j]][0])\n",
    "                tax = ncbi.get_taxid_translator([lin[rank_idx]])\n",
    "                tax_str.append(tax[list(tax)[0]])\n",
    "            except:\n",
    "                tax_str.append('')\n",
    "    else:\n",
    "        tax_str = ['','','','','','']\n",
    "    all_tax.append(tax_str)\n",
    "        \n",
    "kaiju['gene'] = gene\n",
    "\n",
    "all_tax = np.array(all_tax)\n",
    "for i in range(0,len(get_ranks)):\n",
    "    kaiju[get_ranks[i]] = all_tax[:,i]"
   ]
  },
  {
   "cell_type": "markdown",
   "metadata": {},
   "source": [
    "For each gene, look at breakdown of taxa."
   ]
  },
  {
   "cell_type": "code",
   "execution_count": 4,
   "metadata": {
    "scrolled": true
   },
   "outputs": [
    {
     "name": "stderr",
     "output_type": "stream",
     "text": [
      "/var/folders/qc/515x7sqx20105mbk38jpl2cr0000gn/T/ipykernel_49185/103382101.py:32: FutureWarning: The frame.append method is deprecated and will be removed from pandas in a future version. Use pandas.concat instead.\n",
      "  cat_pct_summ = cat_pct_summ.append([other])\n"
     ]
    },
    {
     "data": {
      "image/png": "[encoded data removed]",
      "text/plain": [
       "<Figure size 640x480 with 1 Axes>"
      ]
     },
     "metadata": {},
     "output_type": "display_data"
    }
   ],
   "source": [
    "org = 'phylum'\n",
    "genes = denit_KOs['gene']\n",
    "categories = list(np.unique(kaiju[org]))\n",
    "\n",
    "#record counts in each category\n",
    "cat_ct = pd.DataFrame(0,index=categories,columns=genes) #dataframe to store counts\n",
    "\n",
    "for gene in genes:\n",
    "    for cat in categories:\n",
    "        gene_idx = kaiju['gene']==gene\n",
    "        cat_idx = kaiju[org]==cat\n",
    "        idx = np.where(np.logical_and(cat_idx,gene_idx))[0]\n",
    "        cat_ct[gene][cat] = len(idx)\n",
    "\n",
    "cat_ct = cat_ct.rename(index={'': 'Unclassified'});\n",
    "categories[0] =  'Unclassified' #assumes first element is always 'unclassified'\n",
    "\n",
    "#create a percentages dataframe\n",
    "cat_pct = cat_ct.copy()\n",
    "cat_pct = cat_pct.divide(np.sum(cat_ct),axis=1)\n",
    "\n",
    "#create a summarized percentages dataframe\n",
    "min_pct = 0.05;\n",
    "rm_row = []\n",
    "other = pd.DataFrame(0,index=['Other'],columns = genes)\n",
    "for cat in categories:\n",
    "    if np.max(cat_pct.loc[cat]) < min_pct:\n",
    "        rm_row.append(cat_pct.loc[cat].name)\n",
    "        other += cat_pct.loc[cat]\n",
    "cat_pct_summ = cat_pct.copy()\n",
    "cat_pct_summ = cat_pct_summ.drop(index=rm_row)\n",
    "cat_pct_summ = cat_pct_summ.append([other])\n",
    "\n",
    "#plot\n",
    "cat_pct_summ = cat_pct_summ.iloc[np.argsort(cat_pct_summ.sum(axis=1),).values[::-1]] #order according to most prevalent taxonomic category\n",
    "for i in range(0,len(cat_pct_summ)):\n",
    "    plt.bar(np.arange(0,len(genes)),cat_pct_summ.iloc[i],bottom=np.sum(cat_pct_summ.iloc[0:i]))\n",
    "plt.legend(cat_pct_summ.index,bbox_to_anchor = (1.05, 1.0))\n",
    "plt.xticks(np.arange(0,len(genes)),cat_pct_summ.columns);\n",
    "plt.ylabel('fraction gene content');\n",
    "plt.savefig('FigSX_reductase_classification.png', bbox_inches='tight', dpi=300);"
   ]
  },
  {
   "cell_type": "code",
   "execution_count": 5,
   "metadata": {},
   "outputs": [
    {
     "data": {
      "text/html": [
       "<div>\n",
       "<style scoped>\n",
       "    .dataframe tbody tr th:only-of-type {\n",
       "        vertical-align: middle;\n",
       "    }\n",
       "\n",
       "    .dataframe tbody tr th {\n",
       "        vertical-align: top;\n",
       "    }\n",
       "\n",
       "    .dataframe thead th {\n",
       "        text-align: right;\n",
       "    }\n",
       "</style>\n",
       "<table border=\"1\" class=\"dataframe\">\n",
       "  <thead>\n",
       "    <tr style=\"text-align: right;\">\n",
       "      <th>gene</th>\n",
       "      <th>narG</th>\n",
       "      <th>napA</th>\n",
       "      <th>nirS</th>\n",
       "      <th>nirK</th>\n",
       "      <th>nor</th>\n",
       "      <th>nosZ</th>\n",
       "    </tr>\n",
       "  </thead>\n",
       "  <tbody>\n",
       "    <tr>\n",
       "      <th>Unclassified</th>\n",
       "      <td>0.202937</td>\n",
       "      <td>0.169404</td>\n",
       "      <td>0.638298</td>\n",
       "      <td>0.352378</td>\n",
       "      <td>0.281126</td>\n",
       "      <td>0.478062</td>\n",
       "    </tr>\n",
       "    <tr>\n",
       "      <th>Proteobacteria</th>\n",
       "      <td>0.329803</td>\n",
       "      <td>0.382606</td>\n",
       "      <td>0.287234</td>\n",
       "      <td>0.230449</td>\n",
       "      <td>0.318771</td>\n",
       "      <td>0.120658</td>\n",
       "    </tr>\n",
       "    <tr>\n",
       "      <th>Actinobacteria</th>\n",
       "      <td>0.374097</td>\n",
       "      <td>0.314876</td>\n",
       "      <td>0.031915</td>\n",
       "      <td>0.135565</td>\n",
       "      <td>0.126058</td>\n",
       "      <td>0.020110</td>\n",
       "    </tr>\n",
       "    <tr>\n",
       "      <th>Other</th>\n",
       "      <td>0.076312</td>\n",
       "      <td>0.063976</td>\n",
       "      <td>0.021277</td>\n",
       "      <td>0.139621</td>\n",
       "      <td>0.054395</td>\n",
       "      <td>0.084095</td>\n",
       "    </tr>\n",
       "    <tr>\n",
       "      <th>Acidobacteria</th>\n",
       "      <td>0.013240</td>\n",
       "      <td>0.045519</td>\n",
       "      <td>0.021277</td>\n",
       "      <td>0.078093</td>\n",
       "      <td>0.149024</td>\n",
       "      <td>0.062157</td>\n",
       "    </tr>\n",
       "    <tr>\n",
       "      <th>Bacteroidetes</th>\n",
       "      <td>0.001685</td>\n",
       "      <td>0.012357</td>\n",
       "      <td>0.000000</td>\n",
       "      <td>0.022763</td>\n",
       "      <td>0.027456</td>\n",
       "      <td>0.160878</td>\n",
       "    </tr>\n",
       "    <tr>\n",
       "      <th>Verrucomicrobia</th>\n",
       "      <td>0.001926</td>\n",
       "      <td>0.011262</td>\n",
       "      <td>0.000000</td>\n",
       "      <td>0.041131</td>\n",
       "      <td>0.043170</td>\n",
       "      <td>0.074040</td>\n",
       "    </tr>\n",
       "  </tbody>\n",
       "</table>\n",
       "</div>"
      ],
      "text/plain": [
       "gene                 narG      napA      nirS      nirK       nor      nosZ\n",
       "Unclassified     0.202937  0.169404  0.638298  0.352378  0.281126  0.478062\n",
       "Proteobacteria   0.329803  0.382606  0.287234  0.230449  0.318771  0.120658\n",
       "Actinobacteria   0.374097  0.314876  0.031915  0.135565  0.126058  0.020110\n",
       "Other            0.076312  0.063976  0.021277  0.139621  0.054395  0.084095\n",
       "Acidobacteria    0.013240  0.045519  0.021277  0.078093  0.149024  0.062157\n",
       "Bacteroidetes    0.001685  0.012357  0.000000  0.022763  0.027456  0.160878\n",
       "Verrucomicrobia  0.001926  0.011262  0.000000  0.041131  0.043170  0.074040"
      ]
     },
     "execution_count": 5,
     "metadata": {},
     "output_type": "execute_result"
    }
   ],
   "source": [
    "cat_pct_summ"
   ]
  }
 ],
 "metadata": {
  "kernelspec": {
   "display_name": "Python 3 (ipykernel)",
   "language": "python",
   "name": "python3"
  },
  "language_info": {
   "codemirror_mode": {
    "name": "ipython",
    "version": 3
   },
   "file_extension": ".py",
   "mimetype": "text/x-python",
   "name": "python",
   "nbconvert_exporter": "python",
   "pygments_lexer": "ipython3",
   "version": "3.10.12"
  }
 },
 "nbformat": 4,
 "nbformat_minor": 4
}
