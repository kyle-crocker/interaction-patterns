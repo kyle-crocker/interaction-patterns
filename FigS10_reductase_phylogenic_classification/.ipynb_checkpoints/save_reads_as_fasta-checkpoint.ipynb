{
 "cells": [
  {
   "cell_type": "code",
   "execution_count": 1,
   "metadata": {},
   "outputs": [],
   "source": [
    "import numpy as np\n",
    "import matplotlib.pyplot as plt\n",
    "import pandas as pd\n",
    "import pickle\n",
    "\n",
    "from Bio import AlignIO\n",
    "from Bio.Seq import Seq\n",
    "from Bio.SeqRecord import SeqRecord\n",
    "from Bio import SeqIO"
   ]
  },
  {
   "cell_type": "code",
   "execution_count": 2,
   "metadata": {},
   "outputs": [
    {
     "ename": "AttributeError",
     "evalue": "Can't get attribute 'new_block' on <module 'pandas.core.internals.blocks' from '/Users/kvg/opt/anaconda3/lib/python3.8/site-packages/pandas/core/internals/blocks.py'>",
     "output_type": "error",
     "traceback": [
      "\u001b[0;31m---------------------------------------------------------------------------\u001b[0m",
      "\u001b[0;31mAttributeError\u001b[0m                            Traceback (most recent call last)",
      "Input \u001b[0;32mIn [2]\u001b[0m, in \u001b[0;36m<module>\u001b[0;34m\u001b[0m\n\u001b[1;32m      1\u001b[0m \u001b[38;5;28;01mwith\u001b[39;00m \u001b[38;5;28mopen\u001b[39m(\u001b[38;5;124m\"\u001b[39m\u001b[38;5;124m20220214_to_karna_reads.pk\u001b[39m\u001b[38;5;124m\"\u001b[39m,\u001b[38;5;124m'\u001b[39m\u001b[38;5;124mrb\u001b[39m\u001b[38;5;124m'\u001b[39m) \u001b[38;5;28;01mas\u001b[39;00m f:\n\u001b[0;32m----> 2\u001b[0m     data \u001b[38;5;241m=\u001b[39m \u001b[43mpickle\u001b[49m\u001b[38;5;241;43m.\u001b[39;49m\u001b[43mload\u001b[49m\u001b[43m(\u001b[49m\u001b[43mf\u001b[49m\u001b[43m)\u001b[49m\n",
      "\u001b[0;31mAttributeError\u001b[0m: Can't get attribute 'new_block' on <module 'pandas.core.internals.blocks' from '/Users/kvg/opt/anaconda3/lib/python3.8/site-packages/pandas/core/internals/blocks.py'>"
     ]
    }
   ],
   "source": [
    "with open(\"20220214_to_karna_reads.pk\",'rb') as f:\n",
    "    data = pickle.load(f)\n"
   ]
  },
  {
   "cell_type": "code",
   "execution_count": 2,
   "metadata": {},
   "outputs": [
    {
     "data": {
      "text/plain": [
       "3590"
      ]
     },
     "execution_count": 2,
     "metadata": {},
     "output_type": "execute_result"
    }
   ],
   "source": [
    "#fixed bug where multiple runs for a given sample were not recognized. Increased number of sequences by 70%\n",
    "\n",
    "#list of runs contained in annotation data\n",
    "data_run = list(data.keys())\n",
    "\n",
    "#Match up pH values with run labels\n",
    "sample_to_run = pd.read_csv('sample_run_labels.csv')\n",
    "sample_to_evars = pd.read_csv('env_vars.csv')[['sample','pH']]\n",
    "\n",
    "runs = []\n",
    "samps = []\n",
    "phs = []\n",
    "for run in data_run:\n",
    "    samp = sample_to_run['sample'].loc[sample_to_run['run']==run].values[0]\n",
    "    runs.append(run)\n",
    "    samps.append(samp)\n",
    "    phs.append(sample_to_evars['pH'].loc[sample_to_evars['sample']==samp].values[0])\n",
    "\n",
    "evars = pd.DataFrame()\n",
    "evars['run'] = runs\n",
    "evars['sample'] = samps\n",
    "evars['pH'] = phs\n",
    "\n",
    "records_nt = []\n",
    "records_aa = []\n",
    "for run_id in list(evars['run']):\n",
    "    for i in range(0,len(data[run_id][0]['qseqid'])):\n",
    "        cont_id = list(data[run_id][0]['qseqid'])[i]\n",
    "        qstart = list(data[run_id][0]['qstart'])[i]\n",
    "        qend = list(data[run_id][0]['qend'])[i]\n",
    "        sseqid = list(data[run_id][0]['sseqid'])[i]\n",
    "        \n",
    "        samp = evars['sample'].loc[evars['run']==run_id].values[0]\n",
    "        ph = evars['pH'].loc[evars['run']==run_id].values[0]\n",
    "        header = run_id + '_' + samp + '_pH_' + str(ph) + '_'  + cont_id + '_' + sseqid\n",
    "        if qstart < qend:\n",
    "            seq = Seq(data[run_id][2][cont_id])\n",
    "        else:\n",
    "            seq = Seq(data[run_id][2][cont_id]).reverse_complement()\n",
    "        records_nt.append(SeqRecord(seq,id=header,description=\"\")) # nt sequence \n",
    "        records_aa.append(SeqRecord(seq.translate(),id=header,description=\"\")) #aa sequence\n",
    "\n",
    "# with open(\"sequences/nirk_meta_all.fna\", \"w\") as output_handle:\n",
    "#     SeqIO.write(records_nt, output_handle, \"fasta\")\n",
    "    \n",
    "len(records_nt)"
   ]
  }
 ],
 "metadata": {
  "kernelspec": {
   "display_name": "Python 3 (ipykernel)",
   "language": "python",
   "name": "python3"
  },
  "language_info": {
   "codemirror_mode": {
    "name": "ipython",
    "version": 3
   },
   "file_extension": ".py",
   "mimetype": "text/x-python",
   "name": "python",
   "nbconvert_exporter": "python",
   "pygments_lexer": "ipython3",
   "version": "3.8.12"
  }
 },
 "nbformat": 4,
 "nbformat_minor": 4
}
