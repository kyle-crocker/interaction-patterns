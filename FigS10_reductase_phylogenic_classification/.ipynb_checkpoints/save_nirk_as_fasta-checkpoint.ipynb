{
 "cells": [
  {
   "cell_type": "code",
   "execution_count": 1,
   "metadata": {},
   "outputs": [],
   "source": [
    "import numpy as np\n",
    "import matplotlib.pyplot as plt\n",
    "import pandas as pd\n",
    "import pickle\n",
    "\n",
    "from Bio import AlignIO\n",
    "from Bio.Seq import Seq\n",
    "from Bio.SeqRecord import SeqRecord\n",
    "from Bio import SeqIO"
   ]
  },
  {
   "cell_type": "code",
   "execution_count": 6,
   "metadata": {},
   "outputs": [
    {
     "data": {
      "text/plain": [
       "1089"
      ]
     },
     "execution_count": 6,
     "metadata": {},
     "output_type": "execute_result"
    }
   ],
   "source": [
    "#fixed bug where multiple runs for a given sample were not recognized. Increased number of sequences by 70%\n",
    "with open(\"20210319_send_karna_nirK_alignments.pk\",'rb') as f:\n",
    "    data = pickle.load(f)\n",
    "\n",
    "#list of runs contained in annotation data\n",
    "data_run = list(data.keys())\n",
    "\n",
    "#Match up pH values with run labels\n",
    "sample_to_run = pd.read_csv('sample_run_labels.csv')\n",
    "sample_to_evars = pd.read_csv('env_vars.csv')[['sample','pH']]\n",
    "\n",
    "runs = []\n",
    "samps = []\n",
    "phs = []\n",
    "for run in data_run:\n",
    "    samp = sample_to_run['sample'].loc[sample_to_run['run']==run].values[0]\n",
    "    runs.append(run)\n",
    "    samps.append(samp)\n",
    "    phs.append(sample_to_evars['pH'].loc[sample_to_evars['sample']==samp].values[0])\n",
    "\n",
    "evars = pd.DataFrame()\n",
    "evars['run'] = runs\n",
    "evars['sample'] = samps\n",
    "evars['pH'] = phs\n",
    "\n",
    "records_nt = []\n",
    "records_aa = []\n",
    "for run_id in list(evars['run']):\n",
    "    for i in range(0,len(data[run_id][0]['qseqid'])):\n",
    "        cont_id = list(data[run_id][0]['qseqid'])[i]\n",
    "        qstart = list(data[run_id][0]['qstart'])[i]\n",
    "        qend = list(data[run_id][0]['qend'])[i]\n",
    "        sseqid = list(data[run_id][0]['sseqid'])[i]\n",
    "        \n",
    "        if (sseqid in goodseqids):\n",
    "            samp = evars['sample'].loc[evars['run']==run_id].values[0]\n",
    "            ph = evars['pH'].loc[evars['run']==run_id].values[0]\n",
    "            header = run_id + '_' + samp + '_pH_' + str(ph) + '_'  + cont_id + '_' + sseqid\n",
    "            if qstart < qend:\n",
    "                seq = Seq(data[run_id][2][cont_id])\n",
    "            else:\n",
    "                seq = Seq(data[run_id][2][cont_id]).reverse_complement()\n",
    "            records_nt.append(SeqRecord(seq,id=header,description=\"\")) # nt sequence \n",
    "            records_aa.append(SeqRecord(seq.translate(),id=header,description=\"\")) #aa sequence\n",
    "            \n",
    "with open(\"sequences/nirk_meta_good.faa\", \"w\") as output_handle:\n",
    "    SeqIO.write(records_aa, output_handle, \"fasta\")\n",
    "    \n",
    "len(records_aa)"
   ]
  }
 ],
 "metadata": {
  "kernelspec": {
   "display_name": "Python 3",
   "language": "python",
   "name": "python3"
  },
  "language_info": {
   "codemirror_mode": {
    "name": "ipython",
    "version": 3
   },
   "file_extension": ".py",
   "mimetype": "text/x-python",
   "name": "python",
   "nbconvert_exporter": "python",
   "pygments_lexer": "ipython3",
   "version": "3.8.5"
  }
 },
 "nbformat": 4,
 "nbformat_minor": 4
}
